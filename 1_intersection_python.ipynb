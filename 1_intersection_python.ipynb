{
 "cells": [
  {
   "cell_type": "code",
   "execution_count": 9,
   "metadata": {},
   "outputs": [],
   "source": [
    "!pip install -q -q -q geopandas\n",
    "!pip install -q -q -q rtree"
   ]
  },
  {
   "cell_type": "markdown",
   "metadata": {},
   "source": [
    "# Interpolation entre des données Insee et un fond de carte\n",
    "\n",
    "Deux interpolations sont proposées. Dans la première, les statistiques territoriales sont obtenues en sommant les valeurs des carreaux intersectant les unités spatiales du fond de carte. Dans la deuxième, on rajoute une pondération, la part de la surface des carreaux intersectant les unités spatiales. Pour de petits territoires du fait des effets de bord, les résultats des deux approches peuvent être très différents.  \n",
    "\n",
    "Attention, les calculs peuvent être un peu long en fonction de la puissance de votre machine.\n"
   ]
  },
  {
   "cell_type": "code",
   "execution_count": 1,
   "metadata": {},
   "outputs": [],
   "source": [
    "import geopandas as gpd"
   ]
  },
  {
   "cell_type": "markdown",
   "metadata": {},
   "source": [
    "Chargement des données carroyées et des quartiers de la politique de ville sur Paris"
   ]
  },
  {
   "cell_type": "code",
   "execution_count": 2,
   "metadata": {},
   "outputs": [],
   "source": [
    "carreaux = gpd.read_file('Filosofi2015_carreaux_200m_metropole.shp')"
   ]
  },
  {
   "cell_type": "code",
   "execution_count": 3,
   "metadata": {},
   "outputs": [],
   "source": [
    "variables = [\"Ind\",\"Men\",\"Men_pauv\",\"Men_1ind\",\"Men_5ind\",\"Men_prop\",\"Men_fmp\",\"Ind_snv\",\n",
    "             \"Men_surf\",\"Men_coll\",\"Men_mais\",\"Log_av45\",\"Log_45_70\",\"Log_70_90\",\"Log_ap90\",\n",
    "             \"Log_inc\",\"Log_soc\",\"Ind_0_3\",\"Ind_4_5\",\"Ind_6_10\",\"Ind_11_17\",\"Ind_18_24\",\n",
    "             \"Ind_25_39\",\"Ind_40_54\",\"Ind_55_64\",\"Ind_65_79\",\"Ind_80p\",\"Ind_inc\"]"
   ]
  },
  {
   "cell_type": "code",
   "execution_count": 4,
   "metadata": {},
   "outputs": [],
   "source": [
    "carreaux = carreaux[[\"IdINSPIRE\", \"geometry\"] + variables]"
   ]
  },
  {
   "cell_type": "code",
   "execution_count": 5,
   "metadata": {},
   "outputs": [],
   "source": [
    "carreaux['surface'] = carreaux.geometry.area"
   ]
  },
  {
   "cell_type": "code",
   "execution_count": 6,
   "metadata": {},
   "outputs": [],
   "source": [
    "qpv = gpd.read_file('QP_METROPOLE_LB93.shp')"
   ]
  },
  {
   "cell_type": "markdown",
   "metadata": {},
   "source": [
    "### Intersection spatiale entre les deux données spatiales (interpolation spatiale simple)"
   ]
  },
  {
   "cell_type": "code",
   "execution_count": 7,
   "metadata": {},
   "outputs": [],
   "source": [
    "intersection = gpd.sjoin(qpv, carreaux, how='inner', op='intersects')"
   ]
  },
  {
   "cell_type": "code",
   "execution_count": 8,
   "metadata": {},
   "outputs": [
    {
     "data": {
      "text/html": [
       "<div>\n",
       "<style scoped>\n",
       "    .dataframe tbody tr th:only-of-type {\n",
       "        vertical-align: middle;\n",
       "    }\n",
       "\n",
       "    .dataframe tbody tr th {\n",
       "        vertical-align: top;\n",
       "    }\n",
       "\n",
       "    .dataframe thead th {\n",
       "        text-align: right;\n",
       "    }\n",
       "</style>\n",
       "<table border=\"1\" class=\"dataframe\">\n",
       "  <thead>\n",
       "    <tr style=\"text-align: right;\">\n",
       "      <th></th>\n",
       "      <th>CODE_QP</th>\n",
       "      <th>NOM_QP</th>\n",
       "      <th>COMMUNE_QP</th>\n",
       "      <th>geometry</th>\n",
       "      <th>index_right</th>\n",
       "      <th>IdINSPIRE</th>\n",
       "      <th>Ind</th>\n",
       "      <th>Men</th>\n",
       "      <th>Men_pauv</th>\n",
       "      <th>Men_1ind</th>\n",
       "      <th>...</th>\n",
       "      <th>Ind_6_10</th>\n",
       "      <th>Ind_11_17</th>\n",
       "      <th>Ind_18_24</th>\n",
       "      <th>Ind_25_39</th>\n",
       "      <th>Ind_40_54</th>\n",
       "      <th>Ind_55_64</th>\n",
       "      <th>Ind_65_79</th>\n",
       "      <th>Ind_80p</th>\n",
       "      <th>Ind_inc</th>\n",
       "      <th>surface</th>\n",
       "    </tr>\n",
       "  </thead>\n",
       "  <tbody>\n",
       "    <tr>\n",
       "      <th>0</th>\n",
       "      <td>QP044012</td>\n",
       "      <td>Le Ranzay</td>\n",
       "      <td>Nantes</td>\n",
       "      <td>POLYGON ((357455.157 6692832.812, 357455.351 6...</td>\n",
       "      <td>823780</td>\n",
       "      <td>CRS3035RES200mN2749600E3451400</td>\n",
       "      <td>236.5</td>\n",
       "      <td>116.0</td>\n",
       "      <td>10.0</td>\n",
       "      <td>39.0</td>\n",
       "      <td>...</td>\n",
       "      <td>9.5</td>\n",
       "      <td>14.5</td>\n",
       "      <td>10.0</td>\n",
       "      <td>51.0</td>\n",
       "      <td>50.0</td>\n",
       "      <td>29.0</td>\n",
       "      <td>37.0</td>\n",
       "      <td>16.0</td>\n",
       "      <td>7.0</td>\n",
       "      <td>39930.618986</td>\n",
       "    </tr>\n",
       "    <tr>\n",
       "      <th>0</th>\n",
       "      <td>QP044012</td>\n",
       "      <td>Le Ranzay</td>\n",
       "      <td>Nantes</td>\n",
       "      <td>POLYGON ((357455.157 6692832.812, 357455.351 6...</td>\n",
       "      <td>830343</td>\n",
       "      <td>CRS3035RES200mN2749600E3451600</td>\n",
       "      <td>434.5</td>\n",
       "      <td>174.0</td>\n",
       "      <td>62.0</td>\n",
       "      <td>81.0</td>\n",
       "      <td>...</td>\n",
       "      <td>38.0</td>\n",
       "      <td>62.0</td>\n",
       "      <td>28.0</td>\n",
       "      <td>77.0</td>\n",
       "      <td>96.0</td>\n",
       "      <td>38.0</td>\n",
       "      <td>36.0</td>\n",
       "      <td>7.0</td>\n",
       "      <td>7.0</td>\n",
       "      <td>39930.623971</td>\n",
       "    </tr>\n",
       "  </tbody>\n",
       "</table>\n",
       "<p>2 rows × 35 columns</p>\n",
       "</div>"
      ],
      "text/plain": [
       "    CODE_QP     NOM_QP COMMUNE_QP  \\\n",
       "0  QP044012  Le Ranzay     Nantes   \n",
       "0  QP044012  Le Ranzay     Nantes   \n",
       "\n",
       "                                            geometry  index_right  \\\n",
       "0  POLYGON ((357455.157 6692832.812, 357455.351 6...       823780   \n",
       "0  POLYGON ((357455.157 6692832.812, 357455.351 6...       830343   \n",
       "\n",
       "                        IdINSPIRE    Ind    Men  Men_pauv  Men_1ind  ...  \\\n",
       "0  CRS3035RES200mN2749600E3451400  236.5  116.0      10.0      39.0  ...   \n",
       "0  CRS3035RES200mN2749600E3451600  434.5  174.0      62.0      81.0  ...   \n",
       "\n",
       "   Ind_6_10  Ind_11_17  Ind_18_24  Ind_25_39  Ind_40_54  Ind_55_64  Ind_65_79  \\\n",
       "0       9.5       14.5       10.0       51.0       50.0       29.0       37.0   \n",
       "0      38.0       62.0       28.0       77.0       96.0       38.0       36.0   \n",
       "\n",
       "   Ind_80p  Ind_inc       surface  \n",
       "0     16.0      7.0  39930.618986  \n",
       "0      7.0      7.0  39930.623971  \n",
       "\n",
       "[2 rows x 35 columns]"
      ]
     },
     "execution_count": 8,
     "metadata": {},
     "output_type": "execute_result"
    }
   ],
   "source": [
    "intersection.head(2)"
   ]
  },
  {
   "cell_type": "markdown",
   "metadata": {},
   "source": [
    "Aggrégation des données par qpv"
   ]
  },
  {
   "cell_type": "code",
   "execution_count": 10,
   "metadata": {},
   "outputs": [],
   "source": [
    "qpv_statistics = intersection.dissolve(by=['CODE_QP', 'NOM_QP'], aggfunc='sum', as_index=False)"
   ]
  },
  {
   "cell_type": "code",
   "execution_count": 11,
   "metadata": {},
   "outputs": [
    {
     "data": {
      "text/html": [
       "<div>\n",
       "<style scoped>\n",
       "    .dataframe tbody tr th:only-of-type {\n",
       "        vertical-align: middle;\n",
       "    }\n",
       "\n",
       "    .dataframe tbody tr th {\n",
       "        vertical-align: top;\n",
       "    }\n",
       "\n",
       "    .dataframe thead th {\n",
       "        text-align: right;\n",
       "    }\n",
       "</style>\n",
       "<table border=\"1\" class=\"dataframe\">\n",
       "  <thead>\n",
       "    <tr style=\"text-align: right;\">\n",
       "      <th></th>\n",
       "      <th>CODE_QP</th>\n",
       "      <th>NOM_QP</th>\n",
       "      <th>geometry</th>\n",
       "      <th>index_right</th>\n",
       "      <th>Ind</th>\n",
       "      <th>Men</th>\n",
       "      <th>Men_pauv</th>\n",
       "      <th>Men_1ind</th>\n",
       "      <th>Men_5ind</th>\n",
       "      <th>Men_prop</th>\n",
       "      <th>...</th>\n",
       "      <th>Ind_6_10</th>\n",
       "      <th>Ind_11_17</th>\n",
       "      <th>Ind_18_24</th>\n",
       "      <th>Ind_25_39</th>\n",
       "      <th>Ind_40_54</th>\n",
       "      <th>Ind_55_64</th>\n",
       "      <th>Ind_65_79</th>\n",
       "      <th>Ind_80p</th>\n",
       "      <th>Ind_inc</th>\n",
       "      <th>surface</th>\n",
       "    </tr>\n",
       "  </thead>\n",
       "  <tbody>\n",
       "    <tr>\n",
       "      <th>0</th>\n",
       "      <td>QP001001</td>\n",
       "      <td>Grande Reyssouze Terre Des Fleurs</td>\n",
       "      <td>POLYGON ((872426.099 6570361.000, 872424.911 6...</td>\n",
       "      <td>72404186</td>\n",
       "      <td>8341.0</td>\n",
       "      <td>3837.2</td>\n",
       "      <td>998.0</td>\n",
       "      <td>1733.6</td>\n",
       "      <td>352.2</td>\n",
       "      <td>950.7</td>\n",
       "      <td>...</td>\n",
       "      <td>599.8</td>\n",
       "      <td>791.0</td>\n",
       "      <td>564.7</td>\n",
       "      <td>1512.8</td>\n",
       "      <td>1417.8</td>\n",
       "      <td>925.9</td>\n",
       "      <td>1090.7</td>\n",
       "      <td>606.8</td>\n",
       "      <td>114.5</td>\n",
       "      <td>1.557086e+06</td>\n",
       "    </tr>\n",
       "    <tr>\n",
       "      <th>1</th>\n",
       "      <td>QP001002</td>\n",
       "      <td>Croix Blanche</td>\n",
       "      <td>POLYGON ((873133.502 6569621.231, 873121.870 6...</td>\n",
       "      <td>27884213</td>\n",
       "      <td>2927.0</td>\n",
       "      <td>1385.1</td>\n",
       "      <td>419.6</td>\n",
       "      <td>626.8</td>\n",
       "      <td>123.1</td>\n",
       "      <td>342.2</td>\n",
       "      <td>...</td>\n",
       "      <td>201.5</td>\n",
       "      <td>202.3</td>\n",
       "      <td>165.1</td>\n",
       "      <td>541.3</td>\n",
       "      <td>503.8</td>\n",
       "      <td>394.8</td>\n",
       "      <td>441.0</td>\n",
       "      <td>176.1</td>\n",
       "      <td>23.5</td>\n",
       "      <td>5.988797e+05</td>\n",
       "    </tr>\n",
       "  </tbody>\n",
       "</table>\n",
       "<p>2 rows × 33 columns</p>\n",
       "</div>"
      ],
      "text/plain": [
       "    CODE_QP                             NOM_QP  \\\n",
       "0  QP001001  Grande Reyssouze Terre Des Fleurs   \n",
       "1  QP001002                      Croix Blanche   \n",
       "\n",
       "                                            geometry  index_right     Ind  \\\n",
       "0  POLYGON ((872426.099 6570361.000, 872424.911 6...     72404186  8341.0   \n",
       "1  POLYGON ((873133.502 6569621.231, 873121.870 6...     27884213  2927.0   \n",
       "\n",
       "      Men  Men_pauv  Men_1ind  Men_5ind  Men_prop  ...  Ind_6_10  Ind_11_17  \\\n",
       "0  3837.2     998.0    1733.6     352.2     950.7  ...     599.8      791.0   \n",
       "1  1385.1     419.6     626.8     123.1     342.2  ...     201.5      202.3   \n",
       "\n",
       "   Ind_18_24  Ind_25_39  Ind_40_54  Ind_55_64  Ind_65_79  Ind_80p  Ind_inc  \\\n",
       "0      564.7     1512.8     1417.8      925.9     1090.7    606.8    114.5   \n",
       "1      165.1      541.3      503.8      394.8      441.0    176.1     23.5   \n",
       "\n",
       "        surface  \n",
       "0  1.557086e+06  \n",
       "1  5.988797e+05  \n",
       "\n",
       "[2 rows x 33 columns]"
      ]
     },
     "execution_count": 11,
     "metadata": {},
     "output_type": "execute_result"
    }
   ],
   "source": [
    "qpv_statistics.head(2)"
   ]
  },
  {
   "cell_type": "markdown",
   "metadata": {},
   "source": [
    "### Intersection spatiale entre les deux données spatiales (au prorata de la surface)"
   ]
  },
  {
   "cell_type": "code",
   "execution_count": 16,
   "metadata": {},
   "outputs": [],
   "source": [
    "intersection = gpd.overlay(qpv, carreaux)"
   ]
  },
  {
   "cell_type": "code",
   "execution_count": 18,
   "metadata": {},
   "outputs": [
    {
     "data": {
      "text/html": [
       "<div>\n",
       "<style scoped>\n",
       "    .dataframe tbody tr th:only-of-type {\n",
       "        vertical-align: middle;\n",
       "    }\n",
       "\n",
       "    .dataframe tbody tr th {\n",
       "        vertical-align: top;\n",
       "    }\n",
       "\n",
       "    .dataframe thead th {\n",
       "        text-align: right;\n",
       "    }\n",
       "</style>\n",
       "<table border=\"1\" class=\"dataframe\">\n",
       "  <thead>\n",
       "    <tr style=\"text-align: right;\">\n",
       "      <th></th>\n",
       "      <th>CODE_QP</th>\n",
       "      <th>NOM_QP</th>\n",
       "      <th>COMMUNE_QP</th>\n",
       "      <th>IdINSPIRE</th>\n",
       "      <th>Ind</th>\n",
       "      <th>Men</th>\n",
       "      <th>Men_pauv</th>\n",
       "      <th>Men_1ind</th>\n",
       "      <th>Men_5ind</th>\n",
       "      <th>Men_prop</th>\n",
       "      <th>...</th>\n",
       "      <th>Ind_11_17</th>\n",
       "      <th>Ind_18_24</th>\n",
       "      <th>Ind_25_39</th>\n",
       "      <th>Ind_40_54</th>\n",
       "      <th>Ind_55_64</th>\n",
       "      <th>Ind_65_79</th>\n",
       "      <th>Ind_80p</th>\n",
       "      <th>Ind_inc</th>\n",
       "      <th>surface</th>\n",
       "      <th>geometry</th>\n",
       "    </tr>\n",
       "  </thead>\n",
       "  <tbody>\n",
       "    <tr>\n",
       "      <th>0</th>\n",
       "      <td>QP044012</td>\n",
       "      <td>Le Ranzay</td>\n",
       "      <td>Nantes</td>\n",
       "      <td>CRS3035RES200mN2749200E3451400</td>\n",
       "      <td>170.5</td>\n",
       "      <td>79.0</td>\n",
       "      <td>16.0</td>\n",
       "      <td>33.0</td>\n",
       "      <td>2.0</td>\n",
       "      <td>33.0</td>\n",
       "      <td>...</td>\n",
       "      <td>19.5</td>\n",
       "      <td>7.5</td>\n",
       "      <td>31.0</td>\n",
       "      <td>36.0</td>\n",
       "      <td>19.0</td>\n",
       "      <td>17.0</td>\n",
       "      <td>10.0</td>\n",
       "      <td>1.0</td>\n",
       "      <td>39930.555798</td>\n",
       "      <td>POLYGON ((357660.714 6692745.185, 357623.500 6...</td>\n",
       "    </tr>\n",
       "    <tr>\n",
       "      <th>1</th>\n",
       "      <td>QP044012</td>\n",
       "      <td>Le Ranzay</td>\n",
       "      <td>Nantes</td>\n",
       "      <td>CRS3035RES200mN2749400E3451400</td>\n",
       "      <td>476.0</td>\n",
       "      <td>284.0</td>\n",
       "      <td>96.0</td>\n",
       "      <td>174.0</td>\n",
       "      <td>8.0</td>\n",
       "      <td>25.0</td>\n",
       "      <td>...</td>\n",
       "      <td>24.0</td>\n",
       "      <td>31.0</td>\n",
       "      <td>110.0</td>\n",
       "      <td>94.0</td>\n",
       "      <td>66.0</td>\n",
       "      <td>64.0</td>\n",
       "      <td>17.0</td>\n",
       "      <td>1.0</td>\n",
       "      <td>39930.587353</td>\n",
       "      <td>POLYGON ((357455.157 6692832.812, 357455.351 6...</td>\n",
       "    </tr>\n",
       "  </tbody>\n",
       "</table>\n",
       "<p>2 rows × 34 columns</p>\n",
       "</div>"
      ],
      "text/plain": [
       "    CODE_QP     NOM_QP COMMUNE_QP                       IdINSPIRE    Ind  \\\n",
       "0  QP044012  Le Ranzay     Nantes  CRS3035RES200mN2749200E3451400  170.5   \n",
       "1  QP044012  Le Ranzay     Nantes  CRS3035RES200mN2749400E3451400  476.0   \n",
       "\n",
       "     Men  Men_pauv  Men_1ind  Men_5ind  Men_prop  ...  Ind_11_17  Ind_18_24  \\\n",
       "0   79.0      16.0      33.0       2.0      33.0  ...       19.5        7.5   \n",
       "1  284.0      96.0     174.0       8.0      25.0  ...       24.0       31.0   \n",
       "\n",
       "   Ind_25_39  Ind_40_54  Ind_55_64  Ind_65_79  Ind_80p  Ind_inc       surface  \\\n",
       "0       31.0       36.0       19.0       17.0     10.0      1.0  39930.555798   \n",
       "1      110.0       94.0       66.0       64.0     17.0      1.0  39930.587353   \n",
       "\n",
       "                                            geometry  \n",
       "0  POLYGON ((357660.714 6692745.185, 357623.500 6...  \n",
       "1  POLYGON ((357455.157 6692832.812, 357455.351 6...  \n",
       "\n",
       "[2 rows x 34 columns]"
      ]
     },
     "execution_count": 18,
     "metadata": {},
     "output_type": "execute_result"
    }
   ],
   "source": [
    "intersection.head(2)"
   ]
  },
  {
   "cell_type": "markdown",
   "metadata": {},
   "source": [
    "Afficher les morceaux de carreaux recouvrant le quartier CODE_QP=='QP044012'"
   ]
  },
  {
   "cell_type": "code",
   "execution_count": 20,
   "metadata": {},
   "outputs": [
    {
     "data": {
      "text/plain": [
       "<matplotlib.axes._subplots.AxesSubplot at 0x7f854bfbc2d0>"
      ]
     },
     "execution_count": 20,
     "metadata": {},
     "output_type": "execute_result"
    },
    {
     "data": {
      "image/png": "[encoded data removed]",
      "text/plain": [
       "<Figure size 432x288 with 1 Axes>"
      ]
     },
     "metadata": {
      "needs_background": "light"
     },
     "output_type": "display_data"
    }
   ],
   "source": [
    "intersection.geometry.boundary[intersection.CODE_QP=='QP044012'].plot()"
   ]
  },
  {
   "cell_type": "code",
   "execution_count": 21,
   "metadata": {},
   "outputs": [],
   "source": [
    "ponderation = intersection.area / intersection.surface"
   ]
  },
  {
   "cell_type": "code",
   "execution_count": 22,
   "metadata": {},
   "outputs": [],
   "source": [
    "intersection.loc[:,variables] = intersection.loc[:,variables].mul(ponderation, axis=0)"
   ]
  },
  {
   "cell_type": "markdown",
   "metadata": {},
   "source": [
    "Aggrégation des données par qpv"
   ]
  },
  {
   "cell_type": "code",
   "execution_count": 25,
   "metadata": {},
   "outputs": [],
   "source": [
    "qpv_statistics = intersection.dissolve(by=['CODE_QP', 'NOM_QP'], aggfunc='sum', as_index=False)"
   ]
  },
  {
   "cell_type": "code",
   "execution_count": 26,
   "metadata": {},
   "outputs": [
    {
     "data": {
      "text/html": [
       "<div>\n",
       "<style scoped>\n",
       "    .dataframe tbody tr th:only-of-type {\n",
       "        vertical-align: middle;\n",
       "    }\n",
       "\n",
       "    .dataframe tbody tr th {\n",
       "        vertical-align: top;\n",
       "    }\n",
       "\n",
       "    .dataframe thead th {\n",
       "        text-align: right;\n",
       "    }\n",
       "</style>\n",
       "<table border=\"1\" class=\"dataframe\">\n",
       "  <thead>\n",
       "    <tr style=\"text-align: right;\">\n",
       "      <th></th>\n",
       "      <th>CODE_QP</th>\n",
       "      <th>NOM_QP</th>\n",
       "      <th>geometry</th>\n",
       "      <th>Ind</th>\n",
       "      <th>Men</th>\n",
       "      <th>Men_pauv</th>\n",
       "      <th>Men_1ind</th>\n",
       "      <th>Men_5ind</th>\n",
       "      <th>Men_prop</th>\n",
       "      <th>Men_fmp</th>\n",
       "      <th>...</th>\n",
       "      <th>Ind_6_10</th>\n",
       "      <th>Ind_11_17</th>\n",
       "      <th>Ind_18_24</th>\n",
       "      <th>Ind_25_39</th>\n",
       "      <th>Ind_40_54</th>\n",
       "      <th>Ind_55_64</th>\n",
       "      <th>Ind_65_79</th>\n",
       "      <th>Ind_80p</th>\n",
       "      <th>Ind_inc</th>\n",
       "      <th>surface</th>\n",
       "    </tr>\n",
       "  </thead>\n",
       "  <tbody>\n",
       "    <tr>\n",
       "      <th>0</th>\n",
       "      <td>QP001001</td>\n",
       "      <td>Grande Reyssouze Terre Des Fleurs</td>\n",
       "      <td>POLYGON ((870591.936 6569670.498, 870594.960 6...</td>\n",
       "      <td>4463.128689</td>\n",
       "      <td>1979.784360</td>\n",
       "      <td>593.610198</td>\n",
       "      <td>874.649782</td>\n",
       "      <td>214.292472</td>\n",
       "      <td>330.103393</td>\n",
       "      <td>268.093968</td>\n",
       "      <td>...</td>\n",
       "      <td>361.842629</td>\n",
       "      <td>450.534883</td>\n",
       "      <td>319.843949</td>\n",
       "      <td>829.397030</td>\n",
       "      <td>754.304031</td>\n",
       "      <td>466.223436</td>\n",
       "      <td>527.668664</td>\n",
       "      <td>285.877116</td>\n",
       "      <td>49.927812</td>\n",
       "      <td>1.557086e+06</td>\n",
       "    </tr>\n",
       "    <tr>\n",
       "      <th>1</th>\n",
       "      <td>QP001002</td>\n",
       "      <td>Croix Blanche</td>\n",
       "      <td>POLYGON ((872954.124 6569376.819, 872925.289 6...</td>\n",
       "      <td>1240.024452</td>\n",
       "      <td>582.541661</td>\n",
       "      <td>216.172140</td>\n",
       "      <td>271.294506</td>\n",
       "      <td>56.474940</td>\n",
       "      <td>72.285039</td>\n",
       "      <td>69.520838</td>\n",
       "      <td>...</td>\n",
       "      <td>90.946806</td>\n",
       "      <td>91.297046</td>\n",
       "      <td>73.432150</td>\n",
       "      <td>238.237154</td>\n",
       "      <td>215.205920</td>\n",
       "      <td>163.724187</td>\n",
       "      <td>173.493772</td>\n",
       "      <td>55.907816</td>\n",
       "      <td>8.143518</td>\n",
       "      <td>5.988797e+05</td>\n",
       "    </tr>\n",
       "  </tbody>\n",
       "</table>\n",
       "<p>2 rows × 32 columns</p>\n",
       "</div>"
      ],
      "text/plain": [
       "    CODE_QP                             NOM_QP  \\\n",
       "0  QP001001  Grande Reyssouze Terre Des Fleurs   \n",
       "1  QP001002                      Croix Blanche   \n",
       "\n",
       "                                            geometry          Ind  \\\n",
       "0  POLYGON ((870591.936 6569670.498, 870594.960 6...  4463.128689   \n",
       "1  POLYGON ((872954.124 6569376.819, 872925.289 6...  1240.024452   \n",
       "\n",
       "           Men    Men_pauv    Men_1ind    Men_5ind    Men_prop     Men_fmp  \\\n",
       "0  1979.784360  593.610198  874.649782  214.292472  330.103393  268.093968   \n",
       "1   582.541661  216.172140  271.294506   56.474940   72.285039   69.520838   \n",
       "\n",
       "   ...    Ind_6_10   Ind_11_17   Ind_18_24   Ind_25_39   Ind_40_54  \\\n",
       "0  ...  361.842629  450.534883  319.843949  829.397030  754.304031   \n",
       "1  ...   90.946806   91.297046   73.432150  238.237154  215.205920   \n",
       "\n",
       "    Ind_55_64   Ind_65_79     Ind_80p    Ind_inc       surface  \n",
       "0  466.223436  527.668664  285.877116  49.927812  1.557086e+06  \n",
       "1  163.724187  173.493772   55.907816   8.143518  5.988797e+05  \n",
       "\n",
       "[2 rows x 32 columns]"
      ]
     },
     "execution_count": 26,
     "metadata": {},
     "output_type": "execute_result"
    }
   ],
   "source": [
    "qpv_statistics.head(2)"
   ]
  }
 ],
 "metadata": {
  "kernelspec": {
   "display_name": "Python 3",
   "language": "python",
   "name": "python3"
  },
  "language_info": {
   "codemirror_mode": {
    "name": "ipython",
    "version": 3
   },
   "file_extension": ".py",
   "mimetype": "text/x-python",
   "name": "python",
   "nbconvert_exporter": "python",
   "pygments_lexer": "ipython3",
   "version": "3.7.6"
  }
 },
 "nbformat": 4,
 "nbformat_minor": 4
}
